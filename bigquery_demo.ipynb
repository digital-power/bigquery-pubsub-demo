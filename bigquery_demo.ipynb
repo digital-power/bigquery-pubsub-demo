{
 "cells": [
  {
   "cell_type": "markdown",
   "metadata": {},
   "source": [
    "# Set project variables"
   ]
  },
  {
   "cell_type": "code",
   "execution_count": null,
   "metadata": {},
   "outputs": [],
   "source": [
    "project_id = \"bigquery-demo-282711\"\n",
    "topic_id = \"streaming_demo\"\n",
    "topic_path = \"projects/bigquery-demo-282711/topics/streaming_demo\"\n",
    "table_id = \"bigquery-demo-282711:sales_dataset.sales\"\n",
    "bucket = \"bq-demo-dip-realtime-ws\""
   ]
  },
  {
   "cell_type": "markdown",
   "metadata": {},
   "source": [
    "# Install and import required packages\n",
    "\n",
    "Use the first command if you usually use pip3 to install packages, or the second one if pip3 has been installed under the alias pip (for example with the Docker image)."
   ]
  },
  {
   "cell_type": "code",
   "execution_count": null,
   "metadata": {
    "scrolled": true
   },
   "outputs": [],
   "source": [
    "!pip3 install -r ./requirements.txt"
   ]
  },
  {
   "cell_type": "code",
   "execution_count": null,
   "metadata": {},
   "outputs": [],
   "source": [
    "!pip install -r ./requirements.txt"
   ]
  },
  {
   "cell_type": "code",
   "execution_count": null,
   "metadata": {},
   "outputs": [],
   "source": [
    "import datetime\n",
    "import json\n",
    "import time\n",
    "import random\n",
    "\n",
    "from faker import Faker\n",
    "from faker.providers import person, address, barcode, date_time\n",
    "from google.cloud import pubsub_v1"
   ]
  },
  {
   "cell_type": "markdown",
   "metadata": {},
   "source": [
    "# Create connection with Pub/Sub through service account"
   ]
  },
  {
   "cell_type": "code",
   "execution_count": null,
   "metadata": {},
   "outputs": [],
   "source": [
    "publisher = pubsub_v1.PublisherClient.from_service_account_json(\"./service_account.json\")\n",
    "topic_path = publisher.topic_path(project_id, topic_id)"
   ]
  },
  {
   "cell_type": "markdown",
   "metadata": {},
   "source": [
    "# Send fake sales to topic every few seconds"
   ]
  },
  {
   "cell_type": "code",
   "execution_count": null,
   "metadata": {},
   "outputs": [],
   "source": [
    "keep_running = True\n",
    "fake = Faker()\n",
    "fake.add_provider(address)\n",
    "fake.add_provider(person)\n",
    "fake.add_provider(barcode)\n",
    "fake.add_provider(date_time)\n",
    "\n",
    "while keep_running:\n",
    "    # generate dict with fake sale\n",
    "    sale = {\n",
    "        'event_timestamp': datetime.datetime.now().strftime(\"%Y-%m-%dT%H:%M:%S\"),\n",
    "        'tr_time_str': fake.date_time_this_month().strftime(\"%Y-%m-%dT%H:%M:%S\"),\n",
    "        'first_name': fake.first_name(),\n",
    "        'last_name': fake.last_name(),\n",
    "        'city': fake.city(),\n",
    "        'state': str(fake.postcode()),\n",
    "        'product': str(fake.ean(length=13)),\n",
    "        'amount': str(random.randrange(1, 5))\n",
    "    }\n",
    "    \n",
    "    # send bytestring representation of dictionary\n",
    "    publisher.publish(\n",
    "        topic_path, json.dumps(sale).encode('utf-8')\n",
    "    )\n",
    "    \n",
    "    # wait random number of seconds (between 2 and 7) before sending the next sale\n",
    "    time.sleep(random.randrange(2, 7))"
   ]
  },
  {
   "cell_type": "code",
   "execution_count": null,
   "metadata": {},
   "outputs": [],
   "source": []
  }
 ],
 "metadata": {
  "kernelspec": {
   "display_name": "Python 3",
   "language": "python",
   "name": "python3"
  },
  "language_info": {
   "codemirror_mode": {
    "name": "ipython",
    "version": 3
   },
   "file_extension": ".py",
   "mimetype": "text/x-python",
   "name": "python",
   "nbconvert_exporter": "python",
   "pygments_lexer": "ipython3",
   "version": "3.7.6"
  }
 },
 "nbformat": 4,
 "nbformat_minor": 4
}
