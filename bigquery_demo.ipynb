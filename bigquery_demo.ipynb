{
 "cells": [
  {
   "cell_type": "markdown",
   "metadata": {},
   "source": [
    "# Set project variables"
   ]
  },
  {
   "cell_type": "code",
   "execution_count": 7,
   "metadata": {},
   "outputs": [],
   "source": [
    "project_id = \"bigquery-demo-282711\"\n",
    "topic_id = \"streaming_demo\"\n",
    "topic_path = \"projects/bigquery-demo-282711/topics/streaming_demo\"\n",
    "table_id = \"bigquery-demo-282711:sales_dataset.sales\"\n",
    "bucket = \"bq-demo-dip-realtime-ws\""
   ]
  },
  {
   "cell_type": "markdown",
   "metadata": {},
   "source": [
    "# Install and import required packages"
   ]
  },
  {
   "cell_type": "code",
   "execution_count": 12,
   "metadata": {
    "scrolled": true
   },
   "outputs": [
    {
     "name": "stdout",
     "output_type": "stream",
     "text": [
      "/bin/sh: 1: pip3: not found\n"
     ]
    }
   ],
   "source": [
    "!pip3 install -r ./requirements.txt"
   ]
  },
  {
   "cell_type": "code",
   "execution_count": 13,
   "metadata": {},
   "outputs": [
    {
     "name": "stdout",
     "output_type": "stream",
     "text": [
      "E0708 12:35:35.460342100     665 backup_poller.cc:132]       Run client channel backup poller: {\"created\":\"@1594211735.460311000\",\"description\":\"pollset_work\",\"file\":\"src/core/lib/iomgr/ev_epoll1_linux.cc\",\"file_line\":247,\"referenced_errors\":[{\"created\":\"@1594211735.460303500\",\"description\":\"Bad file descriptor\",\"errno\":9,\"file\":\"src/core/lib/iomgr/ev_epoll1_linux.cc\",\"file_line\":736,\"os_error\":\"Bad file descriptor\",\"syscall\":\"epoll_wait\"}]}\n",
      "Requirement already satisfied: google-cloud-pubsub==1.6.0 in /opt/conda/lib/python3.7/site-packages (from -r ./requirements.txt (line 1)) (1.6.0)\n",
      "Requirement already satisfied: Faker==4.1.1 in /opt/conda/lib/python3.7/site-packages (from -r ./requirements.txt (line 2)) (4.1.1)\n",
      "Requirement already satisfied: grpc-google-iam-v1<0.13dev,>=0.12.3 in /opt/conda/lib/python3.7/site-packages (from google-cloud-pubsub==1.6.0->-r ./requirements.txt (line 1)) (0.12.3)\n",
      "Requirement already satisfied: google-api-core[grpc]!=1.17.*,!=1.18.*,!=1.19.*,>=1.14.0 in /opt/conda/lib/python3.7/site-packages (from google-cloud-pubsub==1.6.0->-r ./requirements.txt (line 1)) (1.21.0)\n",
      "Requirement already satisfied: text-unidecode==1.3 in /opt/conda/lib/python3.7/site-packages (from Faker==4.1.1->-r ./requirements.txt (line 2)) (1.3)\n",
      "Requirement already satisfied: python-dateutil>=2.4 in /opt/conda/lib/python3.7/site-packages (from Faker==4.1.1->-r ./requirements.txt (line 2)) (2.8.1)\n",
      "Requirement already satisfied: grpcio<2.0.0dev,>=1.0.0 in /opt/conda/lib/python3.7/site-packages (from grpc-google-iam-v1<0.13dev,>=0.12.3->google-cloud-pubsub==1.6.0->-r ./requirements.txt (line 1)) (1.30.0)\n",
      "Requirement already satisfied: googleapis-common-protos[grpc]<2.0.0dev,>=1.5.2 in /opt/conda/lib/python3.7/site-packages (from grpc-google-iam-v1<0.13dev,>=0.12.3->google-cloud-pubsub==1.6.0->-r ./requirements.txt (line 1)) (1.52.0)\n",
      "Requirement already satisfied: six>=1.10.0 in /opt/conda/lib/python3.7/site-packages (from google-api-core[grpc]!=1.17.*,!=1.18.*,!=1.19.*,>=1.14.0->google-cloud-pubsub==1.6.0->-r ./requirements.txt (line 1)) (1.14.0)\n",
      "Requirement already satisfied: setuptools>=34.0.0 in /opt/conda/lib/python3.7/site-packages (from google-api-core[grpc]!=1.17.*,!=1.18.*,!=1.19.*,>=1.14.0->google-cloud-pubsub==1.6.0->-r ./requirements.txt (line 1)) (46.1.3.post20200325)\n",
      "Requirement already satisfied: requests<3.0.0dev,>=2.18.0 in /opt/conda/lib/python3.7/site-packages (from google-api-core[grpc]!=1.17.*,!=1.18.*,!=1.19.*,>=1.14.0->google-cloud-pubsub==1.6.0->-r ./requirements.txt (line 1)) (2.24.0)\n",
      "Requirement already satisfied: protobuf>=3.12.0 in /opt/conda/lib/python3.7/site-packages (from google-api-core[grpc]!=1.17.*,!=1.18.*,!=1.19.*,>=1.14.0->google-cloud-pubsub==1.6.0->-r ./requirements.txt (line 1)) (3.12.2)\n",
      "Requirement already satisfied: pytz in /opt/conda/lib/python3.7/site-packages (from google-api-core[grpc]!=1.17.*,!=1.18.*,!=1.19.*,>=1.14.0->google-cloud-pubsub==1.6.0->-r ./requirements.txt (line 1)) (2020.1)\n",
      "Requirement already satisfied: google-auth<2.0dev,>=1.18.0 in /opt/conda/lib/python3.7/site-packages (from google-api-core[grpc]!=1.17.*,!=1.18.*,!=1.19.*,>=1.14.0->google-cloud-pubsub==1.6.0->-r ./requirements.txt (line 1)) (1.18.0)\n",
      "Requirement already satisfied: certifi>=2017.4.17 in /opt/conda/lib/python3.7/site-packages (from requests<3.0.0dev,>=2.18.0->google-api-core[grpc]!=1.17.*,!=1.18.*,!=1.19.*,>=1.14.0->google-cloud-pubsub==1.6.0->-r ./requirements.txt (line 1)) (2020.4.5.1)\n",
      "Requirement already satisfied: chardet<4,>=3.0.2 in /opt/conda/lib/python3.7/site-packages (from requests<3.0.0dev,>=2.18.0->google-api-core[grpc]!=1.17.*,!=1.18.*,!=1.19.*,>=1.14.0->google-cloud-pubsub==1.6.0->-r ./requirements.txt (line 1)) (3.0.4)\n",
      "Requirement already satisfied: urllib3!=1.25.0,!=1.25.1,<1.26,>=1.21.1 in /opt/conda/lib/python3.7/site-packages (from requests<3.0.0dev,>=2.18.0->google-api-core[grpc]!=1.17.*,!=1.18.*,!=1.19.*,>=1.14.0->google-cloud-pubsub==1.6.0->-r ./requirements.txt (line 1)) (1.25.9)\n",
      "Requirement already satisfied: idna<3,>=2.5 in /opt/conda/lib/python3.7/site-packages (from requests<3.0.0dev,>=2.18.0->google-api-core[grpc]!=1.17.*,!=1.18.*,!=1.19.*,>=1.14.0->google-cloud-pubsub==1.6.0->-r ./requirements.txt (line 1)) (2.9)\n",
      "Requirement already satisfied: rsa<5,>=3.1.4; python_version >= \"3\" in /opt/conda/lib/python3.7/site-packages (from google-auth<2.0dev,>=1.18.0->google-api-core[grpc]!=1.17.*,!=1.18.*,!=1.19.*,>=1.14.0->google-cloud-pubsub==1.6.0->-r ./requirements.txt (line 1)) (4.6)\n",
      "Requirement already satisfied: pyasn1-modules>=0.2.1 in /opt/conda/lib/python3.7/site-packages (from google-auth<2.0dev,>=1.18.0->google-api-core[grpc]!=1.17.*,!=1.18.*,!=1.19.*,>=1.14.0->google-cloud-pubsub==1.6.0->-r ./requirements.txt (line 1)) (0.2.8)\n",
      "Requirement already satisfied: cachetools<5.0,>=2.0.0 in /opt/conda/lib/python3.7/site-packages (from google-auth<2.0dev,>=1.18.0->google-api-core[grpc]!=1.17.*,!=1.18.*,!=1.19.*,>=1.14.0->google-cloud-pubsub==1.6.0->-r ./requirements.txt (line 1)) (4.1.0)\n",
      "Requirement already satisfied: pyasn1>=0.1.3 in /opt/conda/lib/python3.7/site-packages (from rsa<5,>=3.1.4; python_version >= \"3\"->google-auth<2.0dev,>=1.18.0->google-api-core[grpc]!=1.17.*,!=1.18.*,!=1.19.*,>=1.14.0->google-cloud-pubsub==1.6.0->-r ./requirements.txt (line 1)) (0.4.8)\n"
     ]
    }
   ],
   "source": [
    "!pip install -r ./requirements.txt"
   ]
  },
  {
   "cell_type": "code",
   "execution_count": 9,
   "metadata": {},
   "outputs": [],
   "source": [
    "import datetime\n",
    "import json\n",
    "import time\n",
    "import random\n",
    "\n",
    "from faker import Faker\n",
    "from faker.providers import person, address, barcode, date_time\n",
    "from google.cloud import pubsub_v1"
   ]
  },
  {
   "cell_type": "markdown",
   "metadata": {},
   "source": [
    "# Create connection with Pub/Sub through service account"
   ]
  },
  {
   "cell_type": "code",
   "execution_count": 10,
   "metadata": {},
   "outputs": [],
   "source": [
    "publisher = pubsub_v1.PublisherClient.from_service_account_json(\"./service_account.json\")\n",
    "topic_path = publisher.topic_path(project_id, topic_id)"
   ]
  },
  {
   "cell_type": "markdown",
   "metadata": {},
   "source": [
    "# Send fake sales to topic every few seconds"
   ]
  },
  {
   "cell_type": "code",
   "execution_count": 11,
   "metadata": {},
   "outputs": [
    {
     "ename": "KeyboardInterrupt",
     "evalue": "",
     "output_type": "error",
     "traceback": [
      "\u001b[0;31m---------------------------------------------------------------------------\u001b[0m",
      "\u001b[0;31mKeyboardInterrupt\u001b[0m                         Traceback (most recent call last)",
      "\u001b[0;32m<ipython-input-11-31454d82ed37>\u001b[0m in \u001b[0;36m<module>\u001b[0;34m\u001b[0m\n\u001b[1;32m     25\u001b[0m \u001b[0;34m\u001b[0m\u001b[0m\n\u001b[1;32m     26\u001b[0m     \u001b[0;31m# wait random number of seconds (between 2 and 7) before sending the next sale\u001b[0m\u001b[0;34m\u001b[0m\u001b[0;34m\u001b[0m\u001b[0;34m\u001b[0m\u001b[0m\n\u001b[0;32m---> 27\u001b[0;31m     \u001b[0mtime\u001b[0m\u001b[0;34m.\u001b[0m\u001b[0msleep\u001b[0m\u001b[0;34m(\u001b[0m\u001b[0mrandom\u001b[0m\u001b[0;34m.\u001b[0m\u001b[0mrandrange\u001b[0m\u001b[0;34m(\u001b[0m\u001b[0;36m2\u001b[0m\u001b[0;34m,\u001b[0m \u001b[0;36m7\u001b[0m\u001b[0;34m)\u001b[0m\u001b[0;34m)\u001b[0m\u001b[0;34m\u001b[0m\u001b[0;34m\u001b[0m\u001b[0m\n\u001b[0m",
      "\u001b[0;31mKeyboardInterrupt\u001b[0m: "
     ]
    }
   ],
   "source": [
    "keep_running = True\n",
    "fake = Faker()\n",
    "fake.add_provider(address)\n",
    "fake.add_provider(person)\n",
    "fake.add_provider(barcode)\n",
    "fake.add_provider(date_time)\n",
    "\n",
    "while keep_running:\n",
    "    # generate dict with fake sale\n",
    "    sale = {\n",
    "        'event_timestamp': datetime.datetime.now().strftime(\"%Y-%m-%dT%H:%M:%S\"),\n",
    "        'tr_time_str': fake.date_time_this_month().strftime(\"%Y-%m-%dT%H:%M:%S\"),\n",
    "        'first_name': fake.first_name(),\n",
    "        'last_name': fake.last_name(),\n",
    "        'city': fake.city(),\n",
    "        'state': str(fake.postcode()),\n",
    "        'product': str(fake.ean(length=13)),\n",
    "        'amount': str(random.randrange(1, 5))\n",
    "    }\n",
    "    \n",
    "    # send bytestring representation of dictionary\n",
    "    publisher.publish(\n",
    "        topic_path, json.dumps(sale).encode('utf-8')\n",
    "    )\n",
    "    \n",
    "    # wait random number of seconds (between 2 and 7) before sending the next sale\n",
    "    time.sleep(random.randrange(2, 7))"
   ]
  },
  {
   "cell_type": "code",
   "execution_count": null,
   "metadata": {},
   "outputs": [],
   "source": []
  }
 ],
 "metadata": {
  "kernelspec": {
   "display_name": "Python 3",
   "language": "python",
   "name": "python3"
  },
  "language_info": {
   "codemirror_mode": {
    "name": "ipython",
    "version": 3
   },
   "file_extension": ".py",
   "mimetype": "text/x-python",
   "name": "python",
   "nbconvert_exporter": "python",
   "pygments_lexer": "ipython3",
   "version": "3.7.6"
  }
 },
 "nbformat": 4,
 "nbformat_minor": 4
}
